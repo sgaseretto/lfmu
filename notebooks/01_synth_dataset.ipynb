{
 "cells": [
  {
   "cell_type": "code",
   "execution_count": null,
   "metadata": {},
   "outputs": [],
   "source": [
    "# default_exp synth"
   ]
  },
  {
   "cell_type": "markdown",
   "metadata": {},
   "source": [
    "# Synth Dataset Generator\n",
    "\n",
    "> Module to generate Synthetic Datasets to perform tests"
   ]
  },
  {
   "cell_type": "code",
   "execution_count": null,
   "metadata": {},
   "outputs": [],
   "source": [
    "# hide\n",
    "import os\n",
    "import sys\n",
    "module_path = os.path.abspath(os.path.join('..'))\n",
    "if module_path not in sys.path:\n",
    "    sys.path.append(module_path)"
   ]
  },
  {
   "cell_type": "code",
   "execution_count": null,
   "metadata": {},
   "outputs": [],
   "source": [
    "# hide\n",
    "import pandas as pd\n",
    "import numpy as np\n",
    "import random\n",
    "from lightfm import LightFM\n",
    "from lightfm.data import Dataset\n",
    "\n",
    "random.seed(3)"
   ]
  },
  {
   "cell_type": "code",
   "execution_count": null,
   "metadata": {},
   "outputs": [],
   "source": [
    "# export\n",
    "def gen_values(n_values=10, prefix='u'):\n",
    "    \"Generates a list of values that will be used for generate the dataset\"\n",
    "    l = []\n",
    "    for i in range(n_values):\n",
    "        l.append(prefix + str(i))\n",
    "    return l"
   ]
  },
  {
   "cell_type": "code",
   "execution_count": null,
   "metadata": {},
   "outputs": [
    {
     "data": {
      "text/plain": [
       "['u0', 'u1', 'u2', 'u3', 'u4', 'u5', 'u6', 'u7', 'u8', 'u9']"
      ]
     },
     "execution_count": null,
     "metadata": {},
     "output_type": "execute_result"
    }
   ],
   "source": [
    "gen_values()"
   ]
  },
  {
   "cell_type": "code",
   "execution_count": null,
   "metadata": {},
   "outputs": [],
   "source": [
    "# export\n",
    "def gen_added_n_deleted(l_values, max_added=3, max_deleted=3):\n",
    "    '''\n",
    "    Generates two lists of values, one list will contain the values that will be deleted from the dataset,\n",
    "    and the second one will contain the values that will be added to the dataset.\n",
    "    '''\n",
    "    deleted = []\n",
    "    added = []\n",
    "    r = random.random()\n",
    "    for i in l_values:\n",
    "        if len(deleted) < max_deleted and r < 0.8:\n",
    "            deleted.append(i)\n",
    "        elif len(added) < max_added and r > 0.2:\n",
    "            added.append(i)\n",
    "            \n",
    "    return added, deleted"
   ]
  },
  {
   "cell_type": "code",
   "execution_count": null,
   "metadata": {},
   "outputs": [
    {
     "data": {
      "text/plain": [
       "(['u3', 'u4', 'u5'], ['u0', 'u1', 'u2'])"
      ]
     },
     "execution_count": null,
     "metadata": {},
     "output_type": "execute_result"
    }
   ],
   "source": [
    "gen_added_n_deleted(gen_values())"
   ]
  },
  {
   "cell_type": "code",
   "execution_count": null,
   "metadata": {},
   "outputs": [],
   "source": [
    "def exclude_element(l, values_to_exclude):\n",
    "    \"Excludes the elements from **values_to_exclude** from **l**\"\n",
    "    return [x for x in l if set(values_to_exclude).issuperset({x}) == False]"
   ]
  },
  {
   "cell_type": "code",
   "execution_count": null,
   "metadata": {},
   "outputs": [],
   "source": [
    "a = [1,2,3,4]\n",
    "b = [2,3]\n",
    "\n",
    "assert exclude_element(a, b) == [1,4], 'Both lists should be equal'"
   ]
  },
  {
   "cell_type": "code",
   "execution_count": null,
   "metadata": {},
   "outputs": [
    {
     "data": {
      "text/plain": [
       "(('added', ['u3', 'u4', 'u5']),\n",
       " ('deleted', ['u0', 'u1', 'u2']),\n",
       " ['u0', 'u1', 'u2', 'u6', 'u7', 'u8', 'u9'],\n",
       " ['u3', 'u4', 'u5', 'u6', 'u7', 'u8', 'u9'])"
      ]
     },
     "execution_count": null,
     "metadata": {},
     "output_type": "execute_result"
    }
   ],
   "source": [
    "values = gen_values()\n",
    "added, deleted = gen_added_n_deleted(values)\n",
    "initial_values = exclude_element(values, added)\n",
    "final_values = exclude_element(values, deleted)\n",
    "('added',added), ('deleted',deleted), initial_values, final_values"
   ]
  },
  {
   "cell_type": "code",
   "execution_count": null,
   "metadata": {},
   "outputs": [
    {
     "data": {
      "text/plain": [
       "(['u3', 'u4', 'u5'], ['i3', 'i4', 'i5'])"
      ]
     },
     "execution_count": null,
     "metadata": {},
     "output_type": "execute_result"
    }
   ],
   "source": [
    "dataset_inicial = Dataset()\n",
    "all_users = gen_values()\n",
    "all_items = gen_values(prefix='i')\n",
    "\n",
    "users_added, users_deleted = gen_added_n_deleted(all_users)\n",
    "items_added, items_deleted = gen_added_n_deleted(all_items)\n",
    "\n",
    "initial_users = exclude_element(all_users, users_added)\n",
    "initial_items = exclude_element(all_items, items_added)\n",
    "\n",
    "dataset_inicial.fit(initial_users, initial_items)\n",
    "users_added, items_added"
   ]
  },
  {
   "cell_type": "code",
   "execution_count": null,
   "metadata": {},
   "outputs": [
    {
     "data": {
      "text/plain": [
       "(['u0', 'u1', 'u2'], ['i0', 'i1', 'i2'])"
      ]
     },
     "execution_count": null,
     "metadata": {},
     "output_type": "execute_result"
    }
   ],
   "source": [
    "users_deleted, items_deleted"
   ]
  },
  {
   "cell_type": "code",
   "execution_count": null,
   "metadata": {},
   "outputs": [
    {
     "data": {
      "text/plain": [
       "({'u0': 0, 'u1': 1, 'u2': 2, 'u6': 3, 'u7': 4, 'u8': 5, 'u9': 6},\n",
       " {'u0': 0, 'u1': 1, 'u2': 2, 'u6': 3, 'u7': 4, 'u8': 5, 'u9': 6},\n",
       " {'i0': 0, 'i1': 1, 'i2': 2, 'i6': 3, 'i7': 4, 'i8': 5, 'i9': 6},\n",
       " {'i0': 0, 'i1': 1, 'i2': 2, 'i6': 3, 'i7': 4, 'i8': 5, 'i9': 6})"
      ]
     },
     "execution_count": null,
     "metadata": {},
     "output_type": "execute_result"
    }
   ],
   "source": [
    "dataset_inicial.mapping()"
   ]
  },
  {
   "cell_type": "code",
   "execution_count": null,
   "metadata": {},
   "outputs": [],
   "source": [
    "dataset_inicial.fit_partial(users_added, items_added)"
   ]
  },
  {
   "cell_type": "code",
   "execution_count": null,
   "metadata": {},
   "outputs": [
    {
     "data": {
      "text/plain": [
       "({'u0': 0,\n",
       "  'u1': 1,\n",
       "  'u2': 2,\n",
       "  'u6': 3,\n",
       "  'u7': 4,\n",
       "  'u8': 5,\n",
       "  'u9': 6,\n",
       "  'u3': 7,\n",
       "  'u4': 8,\n",
       "  'u5': 9},\n",
       " {'u0': 0,\n",
       "  'u1': 1,\n",
       "  'u2': 2,\n",
       "  'u6': 3,\n",
       "  'u7': 4,\n",
       "  'u8': 5,\n",
       "  'u9': 6,\n",
       "  'u3': 7,\n",
       "  'u4': 8,\n",
       "  'u5': 9},\n",
       " {'i0': 0,\n",
       "  'i1': 1,\n",
       "  'i2': 2,\n",
       "  'i6': 3,\n",
       "  'i7': 4,\n",
       "  'i8': 5,\n",
       "  'i9': 6,\n",
       "  'i3': 7,\n",
       "  'i4': 8,\n",
       "  'i5': 9},\n",
       " {'i0': 0,\n",
       "  'i1': 1,\n",
       "  'i2': 2,\n",
       "  'i6': 3,\n",
       "  'i7': 4,\n",
       "  'i8': 5,\n",
       "  'i9': 6,\n",
       "  'i3': 7,\n",
       "  'i4': 8,\n",
       "  'i5': 9})"
      ]
     },
     "execution_count": null,
     "metadata": {},
     "output_type": "execute_result"
    }
   ],
   "source": [
    "dataset_inicial.mapping()"
   ]
  },
  {
   "cell_type": "code",
   "execution_count": null,
   "metadata": {},
   "outputs": [],
   "source": [
    "dataset_inicial.fit_partial([], [])"
   ]
  },
  {
   "cell_type": "code",
   "execution_count": null,
   "metadata": {},
   "outputs": [],
   "source": []
  }
 ],
 "metadata": {
  "kernelspec": {
   "display_name": "Python 3",
   "language": "python",
   "name": "python3"
  }
 },
 "nbformat": 4,
 "nbformat_minor": 4
}
