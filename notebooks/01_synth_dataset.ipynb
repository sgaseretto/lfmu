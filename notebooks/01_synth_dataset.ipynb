{
 "cells": [
  {
   "cell_type": "code",
   "execution_count": null,
   "metadata": {},
   "outputs": [],
   "source": [
    "# default_exp synth"
   ]
  },
  {
   "cell_type": "markdown",
   "metadata": {},
   "source": [
    "# Synth Dataset Generator\n",
    "\n",
    "> Module to generate Synthetic Datasets to perform tests"
   ]
  },
  {
   "cell_type": "markdown",
   "metadata": {},
   "source": [
    "This module is used to initialize datasets to test the utils from this library"
   ]
  },
  {
   "cell_type": "code",
   "execution_count": null,
   "metadata": {},
   "outputs": [],
   "source": [
    "# hide\n",
    "import os\n",
    "import sys\n",
    "module_path = os.path.abspath(os.path.join('..'))\n",
    "if module_path not in sys.path:\n",
    "    sys.path.append(module_path)"
   ]
  },
  {
   "cell_type": "code",
   "execution_count": null,
   "metadata": {},
   "outputs": [],
   "source": [
    "# hide\n",
    "import pandas as pd\n",
    "import numpy as np\n",
    "import random\n",
    "from lightfm import LightFM\n",
    "from lightfm.data import Dataset\n",
    "\n",
    "random.seed(42)"
   ]
  },
  {
   "cell_type": "code",
   "execution_count": null,
   "metadata": {},
   "outputs": [],
   "source": [
    "# export\n",
    "def gen_values(n_values=10, prefix='u'):\n",
    "    \"Generates a list of values that will be used for generate the dataset\"\n",
    "    l = []\n",
    "    for i in range(n_values):\n",
    "        l.append(prefix + str(i))\n",
    "    return l"
   ]
  },
  {
   "cell_type": "code",
   "execution_count": null,
   "metadata": {},
   "outputs": [
    {
     "data": {
      "text/plain": [
       "['u0', 'u1', 'u2', 'u3', 'u4', 'u5', 'u6', 'u7', 'u8', 'u9']"
      ]
     },
     "execution_count": null,
     "metadata": {},
     "output_type": "execute_result"
    }
   ],
   "source": [
    "gen_values()"
   ]
  },
  {
   "cell_type": "code",
   "execution_count": null,
   "metadata": {},
   "outputs": [],
   "source": [
    "# export\n",
    "def gen_added_n_deleted(l_values, max_added=3, max_deleted=3):\n",
    "    '''\n",
    "    Generates two lists of values, one list will contain the values that will be deleted from the dataset,\n",
    "    and the second one will contain the values that will be added to the dataset.\n",
    "    '''\n",
    "    deleted = []\n",
    "    added = []\n",
    "    r = random.random()\n",
    "    for i in l_values:\n",
    "        if len(deleted) < max_deleted and r < 0.8:\n",
    "            deleted.append(i)\n",
    "        elif len(added) < max_added and r > 0.2:\n",
    "            added.append(i)\n",
    "            \n",
    "    return added, deleted"
   ]
  },
  {
   "cell_type": "code",
   "execution_count": null,
   "metadata": {},
   "outputs": [
    {
     "data": {
      "text/plain": [
       "(['u3', 'u4', 'u5'], ['u0', 'u1', 'u2'])"
      ]
     },
     "execution_count": null,
     "metadata": {},
     "output_type": "execute_result"
    }
   ],
   "source": [
    "gen_added_n_deleted(gen_values())"
   ]
  },
  {
   "cell_type": "code",
   "execution_count": null,
   "metadata": {},
   "outputs": [],
   "source": [
    "# export\n",
    "def exclude_element(l, values_to_exclude):\n",
    "    \"Excludes the elements from **values_to_exclude** from **l**\"\n",
    "    return [x for x in l if set(values_to_exclude).issuperset({x}) == False]"
   ]
  },
  {
   "cell_type": "code",
   "execution_count": null,
   "metadata": {},
   "outputs": [],
   "source": [
    "# hide\n",
    "a = [1,2,3,4]\n",
    "b = [2,3]\n",
    "\n",
    "assert exclude_element(a, b) == [1,4], 'Both lists should be equal'"
   ]
  },
  {
   "cell_type": "code",
   "execution_count": null,
   "metadata": {},
   "outputs": [],
   "source": [
    "# export\n",
    "def build_interactions(l1, l2, l1_col_name='user_id', l2_col_name='item_id', sparcity=0.5):\n",
    "    '''\n",
    "    Builds interactions between l1 and l2. \n",
    "    The sparcity determines how sparse this interactions will be.\n",
    "    '''\n",
    "    interactions = {l1_col_name:[], l2_col_name:[]}\n",
    "    for i in l1:\n",
    "        for j in l2:\n",
    "            if random.random() < sparcity:\n",
    "                interactions[l1_col_name].append(i)\n",
    "                interactions[l2_col_name].append(j)\n",
    "    return pd.DataFrame(interactions)"
   ]
  },
  {
   "cell_type": "code",
   "execution_count": null,
   "metadata": {},
   "outputs": [
    {
     "data": {
      "text/html": [
       "<div>\n",
       "<style scoped>\n",
       "    .dataframe tbody tr th:only-of-type {\n",
       "        vertical-align: middle;\n",
       "    }\n",
       "\n",
       "    .dataframe tbody tr th {\n",
       "        vertical-align: top;\n",
       "    }\n",
       "\n",
       "    .dataframe thead th {\n",
       "        text-align: right;\n",
       "    }\n",
       "</style>\n",
       "<table border=\"1\" class=\"dataframe\">\n",
       "  <thead>\n",
       "    <tr style=\"text-align: right;\">\n",
       "      <th></th>\n",
       "      <th>user_id</th>\n",
       "      <th>item_id</th>\n",
       "    </tr>\n",
       "  </thead>\n",
       "  <tbody>\n",
       "    <tr>\n",
       "      <th>0</th>\n",
       "      <td>u0</td>\n",
       "      <td>i0</td>\n",
       "    </tr>\n",
       "    <tr>\n",
       "      <th>1</th>\n",
       "      <td>u0</td>\n",
       "      <td>i1</td>\n",
       "    </tr>\n",
       "    <tr>\n",
       "      <th>2</th>\n",
       "      <td>u0</td>\n",
       "      <td>i2</td>\n",
       "    </tr>\n",
       "    <tr>\n",
       "      <th>3</th>\n",
       "      <td>u0</td>\n",
       "      <td>i6</td>\n",
       "    </tr>\n",
       "    <tr>\n",
       "      <th>4</th>\n",
       "      <td>u0</td>\n",
       "      <td>i7</td>\n",
       "    </tr>\n",
       "    <tr>\n",
       "      <th>5</th>\n",
       "      <td>u0</td>\n",
       "      <td>i8</td>\n",
       "    </tr>\n",
       "    <tr>\n",
       "      <th>6</th>\n",
       "      <td>u0</td>\n",
       "      <td>i9</td>\n",
       "    </tr>\n",
       "    <tr>\n",
       "      <th>7</th>\n",
       "      <td>u1</td>\n",
       "      <td>i1</td>\n",
       "    </tr>\n",
       "    <tr>\n",
       "      <th>8</th>\n",
       "      <td>u1</td>\n",
       "      <td>i2</td>\n",
       "    </tr>\n",
       "    <tr>\n",
       "      <th>9</th>\n",
       "      <td>u1</td>\n",
       "      <td>i5</td>\n",
       "    </tr>\n",
       "    <tr>\n",
       "      <th>10</th>\n",
       "      <td>u1</td>\n",
       "      <td>i8</td>\n",
       "    </tr>\n",
       "    <tr>\n",
       "      <th>11</th>\n",
       "      <td>u2</td>\n",
       "      <td>i1</td>\n",
       "    </tr>\n",
       "    <tr>\n",
       "      <th>12</th>\n",
       "      <td>u2</td>\n",
       "      <td>i2</td>\n",
       "    </tr>\n",
       "    <tr>\n",
       "      <th>13</th>\n",
       "      <td>u2</td>\n",
       "      <td>i4</td>\n",
       "    </tr>\n",
       "    <tr>\n",
       "      <th>14</th>\n",
       "      <td>u2</td>\n",
       "      <td>i5</td>\n",
       "    </tr>\n",
       "    <tr>\n",
       "      <th>15</th>\n",
       "      <td>u2</td>\n",
       "      <td>i6</td>\n",
       "    </tr>\n",
       "    <tr>\n",
       "      <th>16</th>\n",
       "      <td>u3</td>\n",
       "      <td>i3</td>\n",
       "    </tr>\n",
       "    <tr>\n",
       "      <th>17</th>\n",
       "      <td>u4</td>\n",
       "      <td>i0</td>\n",
       "    </tr>\n",
       "    <tr>\n",
       "      <th>18</th>\n",
       "      <td>u4</td>\n",
       "      <td>i1</td>\n",
       "    </tr>\n",
       "    <tr>\n",
       "      <th>19</th>\n",
       "      <td>u4</td>\n",
       "      <td>i2</td>\n",
       "    </tr>\n",
       "    <tr>\n",
       "      <th>20</th>\n",
       "      <td>u4</td>\n",
       "      <td>i3</td>\n",
       "    </tr>\n",
       "    <tr>\n",
       "      <th>21</th>\n",
       "      <td>u4</td>\n",
       "      <td>i4</td>\n",
       "    </tr>\n",
       "    <tr>\n",
       "      <th>22</th>\n",
       "      <td>u4</td>\n",
       "      <td>i5</td>\n",
       "    </tr>\n",
       "    <tr>\n",
       "      <th>23</th>\n",
       "      <td>u4</td>\n",
       "      <td>i6</td>\n",
       "    </tr>\n",
       "    <tr>\n",
       "      <th>24</th>\n",
       "      <td>u4</td>\n",
       "      <td>i8</td>\n",
       "    </tr>\n",
       "    <tr>\n",
       "      <th>25</th>\n",
       "      <td>u4</td>\n",
       "      <td>i9</td>\n",
       "    </tr>\n",
       "    <tr>\n",
       "      <th>26</th>\n",
       "      <td>u5</td>\n",
       "      <td>i0</td>\n",
       "    </tr>\n",
       "    <tr>\n",
       "      <th>27</th>\n",
       "      <td>u5</td>\n",
       "      <td>i1</td>\n",
       "    </tr>\n",
       "    <tr>\n",
       "      <th>28</th>\n",
       "      <td>u5</td>\n",
       "      <td>i5</td>\n",
       "    </tr>\n",
       "    <tr>\n",
       "      <th>29</th>\n",
       "      <td>u5</td>\n",
       "      <td>i7</td>\n",
       "    </tr>\n",
       "    <tr>\n",
       "      <th>30</th>\n",
       "      <td>u5</td>\n",
       "      <td>i8</td>\n",
       "    </tr>\n",
       "    <tr>\n",
       "      <th>31</th>\n",
       "      <td>u6</td>\n",
       "      <td>i5</td>\n",
       "    </tr>\n",
       "    <tr>\n",
       "      <th>32</th>\n",
       "      <td>u6</td>\n",
       "      <td>i6</td>\n",
       "    </tr>\n",
       "    <tr>\n",
       "      <th>33</th>\n",
       "      <td>u6</td>\n",
       "      <td>i7</td>\n",
       "    </tr>\n",
       "    <tr>\n",
       "      <th>34</th>\n",
       "      <td>u6</td>\n",
       "      <td>i8</td>\n",
       "    </tr>\n",
       "    <tr>\n",
       "      <th>35</th>\n",
       "      <td>u6</td>\n",
       "      <td>i9</td>\n",
       "    </tr>\n",
       "    <tr>\n",
       "      <th>36</th>\n",
       "      <td>u7</td>\n",
       "      <td>i2</td>\n",
       "    </tr>\n",
       "    <tr>\n",
       "      <th>37</th>\n",
       "      <td>u7</td>\n",
       "      <td>i4</td>\n",
       "    </tr>\n",
       "    <tr>\n",
       "      <th>38</th>\n",
       "      <td>u7</td>\n",
       "      <td>i6</td>\n",
       "    </tr>\n",
       "    <tr>\n",
       "      <th>39</th>\n",
       "      <td>u7</td>\n",
       "      <td>i7</td>\n",
       "    </tr>\n",
       "    <tr>\n",
       "      <th>40</th>\n",
       "      <td>u7</td>\n",
       "      <td>i8</td>\n",
       "    </tr>\n",
       "    <tr>\n",
       "      <th>41</th>\n",
       "      <td>u8</td>\n",
       "      <td>i0</td>\n",
       "    </tr>\n",
       "    <tr>\n",
       "      <th>42</th>\n",
       "      <td>u8</td>\n",
       "      <td>i3</td>\n",
       "    </tr>\n",
       "    <tr>\n",
       "      <th>43</th>\n",
       "      <td>u8</td>\n",
       "      <td>i4</td>\n",
       "    </tr>\n",
       "    <tr>\n",
       "      <th>44</th>\n",
       "      <td>u8</td>\n",
       "      <td>i7</td>\n",
       "    </tr>\n",
       "    <tr>\n",
       "      <th>45</th>\n",
       "      <td>u8</td>\n",
       "      <td>i8</td>\n",
       "    </tr>\n",
       "    <tr>\n",
       "      <th>46</th>\n",
       "      <td>u8</td>\n",
       "      <td>i9</td>\n",
       "    </tr>\n",
       "    <tr>\n",
       "      <th>47</th>\n",
       "      <td>u9</td>\n",
       "      <td>i2</td>\n",
       "    </tr>\n",
       "    <tr>\n",
       "      <th>48</th>\n",
       "      <td>u9</td>\n",
       "      <td>i3</td>\n",
       "    </tr>\n",
       "    <tr>\n",
       "      <th>49</th>\n",
       "      <td>u9</td>\n",
       "      <td>i4</td>\n",
       "    </tr>\n",
       "    <tr>\n",
       "      <th>50</th>\n",
       "      <td>u9</td>\n",
       "      <td>i9</td>\n",
       "    </tr>\n",
       "  </tbody>\n",
       "</table>\n",
       "</div>"
      ],
      "text/plain": [
       "   user_id item_id\n",
       "0       u0      i0\n",
       "1       u0      i1\n",
       "2       u0      i2\n",
       "3       u0      i6\n",
       "4       u0      i7\n",
       "5       u0      i8\n",
       "6       u0      i9\n",
       "7       u1      i1\n",
       "8       u1      i2\n",
       "9       u1      i5\n",
       "10      u1      i8\n",
       "11      u2      i1\n",
       "12      u2      i2\n",
       "13      u2      i4\n",
       "14      u2      i5\n",
       "15      u2      i6\n",
       "16      u3      i3\n",
       "17      u4      i0\n",
       "18      u4      i1\n",
       "19      u4      i2\n",
       "20      u4      i3\n",
       "21      u4      i4\n",
       "22      u4      i5\n",
       "23      u4      i6\n",
       "24      u4      i8\n",
       "25      u4      i9\n",
       "26      u5      i0\n",
       "27      u5      i1\n",
       "28      u5      i5\n",
       "29      u5      i7\n",
       "30      u5      i8\n",
       "31      u6      i5\n",
       "32      u6      i6\n",
       "33      u6      i7\n",
       "34      u6      i8\n",
       "35      u6      i9\n",
       "36      u7      i2\n",
       "37      u7      i4\n",
       "38      u7      i6\n",
       "39      u7      i7\n",
       "40      u7      i8\n",
       "41      u8      i0\n",
       "42      u8      i3\n",
       "43      u8      i4\n",
       "44      u8      i7\n",
       "45      u8      i8\n",
       "46      u8      i9\n",
       "47      u9      i2\n",
       "48      u9      i3\n",
       "49      u9      i4\n",
       "50      u9      i9"
      ]
     },
     "execution_count": null,
     "metadata": {},
     "output_type": "execute_result"
    }
   ],
   "source": [
    "# hide\n",
    "build_interactions(gen_values(prefix='u'), gen_values(prefix='i'))"
   ]
  },
  {
   "cell_type": "code",
   "execution_count": null,
   "metadata": {},
   "outputs": [],
   "source": [
    "# export\n",
    "def build_features_from_df(feature_interactions_df, element_id_column, feature_column, tolist=True):\n",
    "    '''\n",
    "    Builds tuples of elements and its features to build the dataset\n",
    "    '''\n",
    "    unique_elements = feature_interactions_df[element_id_column].unique()\n",
    "    tuples = []\n",
    "    for e in unique_elements:\n",
    "        filtered_rows = feature_interactions_df[feature_interactions_df[element_id_column] == e]\n",
    "        feature_list = filtered_rows[feature_column].unique()\n",
    "        if tolist: feature_list = feature_list.tolist()\n",
    "        tuples.append((e, feature_list))\n",
    "    return tuples"
   ]
  },
  {
   "cell_type": "code",
   "execution_count": null,
   "metadata": {},
   "outputs": [
    {
     "data": {
      "text/plain": [
       "[('u0', ['f1', 'f2', 'f3']),\n",
       " ('u1', ['f2', 'f3']),\n",
       " ('u2', ['f1', 'f3']),\n",
       " ('u3', ['f0', 'f3'])]"
      ]
     },
     "execution_count": null,
     "metadata": {},
     "output_type": "execute_result"
    }
   ],
   "source": [
    "# hide\n",
    "user_features = build_interactions(gen_values(n_values=4, prefix='u'), \n",
    "                   gen_values(n_values=4, prefix='f'), \n",
    "                   l1_col_name='user_id', \n",
    "                   l2_col_name='feature_id', \n",
    "                   sparcity=0.5\n",
    "                  )\n",
    "\n",
    "build_features_from_df(user_features, 'user_id', 'feature_id')"
   ]
  },
  {
   "cell_type": "code",
   "execution_count": null,
   "metadata": {},
   "outputs": [],
   "source": []
  },
  {
   "cell_type": "code",
   "execution_count": null,
   "metadata": {},
   "outputs": [],
   "source": []
  },
  {
   "cell_type": "code",
   "execution_count": null,
   "metadata": {},
   "outputs": [],
   "source": []
  },
  {
   "cell_type": "markdown",
   "metadata": {},
   "source": [
    "## Experimentos"
   ]
  },
  {
   "cell_type": "code",
   "execution_count": null,
   "metadata": {},
   "outputs": [
    {
     "data": {
      "text/plain": [
       "(('added', ['u3', 'u4', 'u5']),\n",
       " ('deleted', ['u0', 'u1', 'u2']),\n",
       " ['u0', 'u1', 'u2', 'u6', 'u7', 'u8', 'u9'],\n",
       " ['u3', 'u4', 'u5', 'u6', 'u7', 'u8', 'u9'])"
      ]
     },
     "execution_count": null,
     "metadata": {},
     "output_type": "execute_result"
    }
   ],
   "source": [
    "# hide\n",
    "values = gen_values()\n",
    "added, deleted = gen_added_n_deleted(values)\n",
    "initial_values = exclude_element(values, added)\n",
    "final_values = exclude_element(values, deleted)\n",
    "('added',added), ('deleted',deleted), initial_values, final_values"
   ]
  },
  {
   "cell_type": "code",
   "execution_count": null,
   "metadata": {},
   "outputs": [
    {
     "data": {
      "text/plain": [
       "(['u3', 'u4', 'u5'], ['i3', 'i4', 'i5'])"
      ]
     },
     "execution_count": null,
     "metadata": {},
     "output_type": "execute_result"
    }
   ],
   "source": [
    "# hide\n",
    "dataset_inicial = Dataset()\n",
    "all_users = gen_values()\n",
    "all_items = gen_values(prefix='i')\n",
    "\n",
    "users_added, users_deleted = gen_added_n_deleted(all_users)\n",
    "items_added, items_deleted = gen_added_n_deleted(all_items)\n",
    "\n",
    "initial_users = exclude_element(all_users, users_added)\n",
    "initial_items = exclude_element(all_items, items_added)\n",
    "\n",
    "dataset_inicial.fit(initial_users, initial_items)\n",
    "users_added, items_added"
   ]
  },
  {
   "cell_type": "code",
   "execution_count": null,
   "metadata": {},
   "outputs": [
    {
     "data": {
      "text/plain": [
       "(['u0', 'u1', 'u2'], ['i0', 'i1', 'i2'])"
      ]
     },
     "execution_count": null,
     "metadata": {},
     "output_type": "execute_result"
    }
   ],
   "source": [
    "# hide\n",
    "users_deleted, items_deleted"
   ]
  },
  {
   "cell_type": "code",
   "execution_count": null,
   "metadata": {},
   "outputs": [
    {
     "data": {
      "text/plain": [
       "({'u0': 0, 'u1': 1, 'u2': 2, 'u6': 3, 'u7': 4, 'u8': 5, 'u9': 6},\n",
       " {'u0': 0, 'u1': 1, 'u2': 2, 'u6': 3, 'u7': 4, 'u8': 5, 'u9': 6},\n",
       " {'i0': 0, 'i1': 1, 'i2': 2, 'i6': 3, 'i7': 4, 'i8': 5, 'i9': 6},\n",
       " {'i0': 0, 'i1': 1, 'i2': 2, 'i6': 3, 'i7': 4, 'i8': 5, 'i9': 6})"
      ]
     },
     "execution_count": null,
     "metadata": {},
     "output_type": "execute_result"
    }
   ],
   "source": [
    "# hide\n",
    "dataset_inicial.mapping()"
   ]
  },
  {
   "cell_type": "code",
   "execution_count": null,
   "metadata": {},
   "outputs": [],
   "source": [
    "# hide\n",
    "dataset_inicial.fit_partial(users_added, items_added)"
   ]
  },
  {
   "cell_type": "code",
   "execution_count": null,
   "metadata": {},
   "outputs": [
    {
     "data": {
      "text/plain": [
       "({'u0': 0,\n",
       "  'u1': 1,\n",
       "  'u2': 2,\n",
       "  'u6': 3,\n",
       "  'u7': 4,\n",
       "  'u8': 5,\n",
       "  'u9': 6,\n",
       "  'u3': 7,\n",
       "  'u4': 8,\n",
       "  'u5': 9},\n",
       " {'u0': 0,\n",
       "  'u1': 1,\n",
       "  'u2': 2,\n",
       "  'u6': 3,\n",
       "  'u7': 4,\n",
       "  'u8': 5,\n",
       "  'u9': 6,\n",
       "  'u3': 7,\n",
       "  'u4': 8,\n",
       "  'u5': 9},\n",
       " {'i0': 0,\n",
       "  'i1': 1,\n",
       "  'i2': 2,\n",
       "  'i6': 3,\n",
       "  'i7': 4,\n",
       "  'i8': 5,\n",
       "  'i9': 6,\n",
       "  'i3': 7,\n",
       "  'i4': 8,\n",
       "  'i5': 9},\n",
       " {'i0': 0,\n",
       "  'i1': 1,\n",
       "  'i2': 2,\n",
       "  'i6': 3,\n",
       "  'i7': 4,\n",
       "  'i8': 5,\n",
       "  'i9': 6,\n",
       "  'i3': 7,\n",
       "  'i4': 8,\n",
       "  'i5': 9})"
      ]
     },
     "execution_count": null,
     "metadata": {},
     "output_type": "execute_result"
    }
   ],
   "source": [
    "# hide\n",
    "dataset_inicial.mapping()"
   ]
  }
 ],
 "metadata": {
  "kernelspec": {
   "display_name": "Python 3",
   "language": "python",
   "name": "python3"
  }
 },
 "nbformat": 4,
 "nbformat_minor": 4
}
