{
 "cells": [
  {
   "cell_type": "code",
   "execution_count": null,
   "metadata": {},
   "outputs": [],
   "source": [
    "#hide\n",
    "import os\n",
    "import sys\n",
    "module_path = os.path.abspath(os.path.join('..'))\n",
    "if module_path not in sys.path:\n",
    "    sys.path.append(module_path)"
   ]
  },
  {
   "cell_type": "code",
   "execution_count": null,
   "metadata": {},
   "outputs": [],
   "source": [
    "# hide\n",
    "from lfmu.core import *\n",
    "from lfmu.synth import *"
   ]
  },
  {
   "cell_type": "markdown",
   "metadata": {},
   "source": [
    "# Tests to see how to re-map users and items\n",
    "\n",
    "This notebook shows how to test the remapping of users and items when some of them are deleted, added or modified"
   ]
  },
  {
   "cell_type": "code",
   "execution_count": null,
   "metadata": {},
   "outputs": [
    {
     "name": "stdout",
     "output_type": "stream",
     "text": [
      "['u2', 'u3'] ['u0', 'u1']\n",
      "['i0', 'i4'] ['i1', 'i2']\n"
     ]
    },
    {
     "data": {
      "text/plain": [
       "({'user_id': ['u0', 'u1', 'u4', 'u5'], 'item_id': ['i1', 'i2', 'i3', 'i5']},\n",
       " {'user_id': ['u2', 'u3', 'u4', 'u5'], 'item_id': ['i0', 'i3', 'i4', 'i5']})"
      ]
     },
     "execution_count": null,
     "metadata": {},
     "output_type": "execute_result"
    }
   ],
   "source": [
    "build_datasets(n_users=6, n_items=6, max_added=2, max_deleted=2, print_added_n_deleted=True)"
   ]
  },
  {
   "cell_type": "code",
   "execution_count": null,
   "metadata": {},
   "outputs": [],
   "source": []
  }
 ],
 "metadata": {
  "kernelspec": {
   "display_name": "Python 3",
   "language": "python",
   "name": "python3"
  }
 },
 "nbformat": 4,
 "nbformat_minor": 4
}
